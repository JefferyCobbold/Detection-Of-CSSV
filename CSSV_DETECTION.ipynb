{
  "cells": [
    {
      "cell_type": "code",
      "execution_count": 16,
      "metadata": {
        "id": "MWwHz0-6O-sK"
      },
      "outputs": [],
      "source": [
        "import numpy as np\n",
        "import tensorflow as tf\n",
        "from tensorflow.keras.preprocessing.image import ImageDataGenerator\n",
        "from sklearn.metrics import accuracy_score\n",
        "from sklearn.metrics import confusion_matrix\n",
        "from matplotlib import pyplot as plt\n",
        "import time\n",
        "import seaborn as sns\n",
        "import os\n",
        "from tensorflow.keras.preprocessing.image import ImageDataGenerator"
      ]
    },
    {
      "cell_type": "code",
      "execution_count": 27,
      "metadata": {
        "id": "bYrBVb3nfzi_"
      },
      "outputs": [],
      "source": [
        "from tensorflow.keras.layers import RandomFlip, RandomRotation, RandomZoom, RandomContrast\n"
      ]
    },
    {
      "cell_type": "code",
      "execution_count": 4,
      "metadata": {
        "id": "pgBbZbxI7kdM"
      },
      "outputs": [],
      "source": [
        "from PIL import Image"
      ]
    },
    {
      "cell_type": "code",
      "execution_count": 18,
      "metadata": {
        "id": "eupsbB6BQFs1",
        "colab": {
          "base_uri": "https://localhost:8080/"
        },
        "outputId": "4a29d982-3af8-4d52-decd-a6be26322639"
      },
      "outputs": [
        {
          "output_type": "stream",
          "name": "stdout",
          "text": [
            "Found 300 files belonging to 2 classes.\n",
            "Using 240 files for training.\n",
            "Found 300 files belonging to 2 classes.\n",
            "Using 60 files for validation.\n"
          ]
        }
      ],
      "source": [
        "from tensorflow.keras.preprocessing.image import ImageDataGenerator\n",
        "import numpy as np\n",
        "data_dir=\"/content/drive/MyDrive/my_project/Project\"\n",
        "\n",
        "train_ds = tf.keras.utils.image_dataset_from_directory(\n",
        "  data_dir,\n",
        "  validation_split=0.2,\n",
        "  subset=\"training\",\n",
        "  seed=123,\n",
        "  interpolation=\"bilinear\",\n",
        "  image_size=(224, 224))\n",
        "val_ds = tf.keras.utils.image_dataset_from_directory(\n",
        "  data_dir,\n",
        "  validation_split=0.2,\n",
        "  subset=\"validation\",\n",
        "  seed=123,\n",
        "  interpolation=\"bilinear\",\n",
        "  image_size=(224, 224))\n",
        ""
      ]
    },
    {
      "cell_type": "code",
      "source": [
        "rescale = tf.keras.layers.Rescaling(1./255, offset= -1)\n",
        "train_ds = train_ds.map(lambda x, y: (rescale(x), y))\n",
        "val_ds   = val_ds.map(lambda x, y: (rescale(x), y))"
      ],
      "metadata": {
        "id": "ZrFMsN9dVBhr"
      },
      "execution_count": 19,
      "outputs": []
    },
    {
      "cell_type": "code",
      "source": [
        "from tensorflow.keras.applications import MobileNetV2\n",
        "from tensorflow.keras.models import Model\n",
        "from tensorflow.keras.layers import Dense, GlobalAveragePooling2D\n",
        "from tensorflow.keras.optimizers import Adam\n",
        "from tensorflow.keras.callbacks import EarlyStopping, ReduceLROnPlateau\n",
        "\n",
        "base_model = MobileNetV2(input_shape=(224, 224, 3),\n",
        "                         include_top=False,\n",
        "                         weights='imagenet',\n",
        "                         alpha=0.35)"
      ],
      "metadata": {
        "colab": {
          "base_uri": "https://localhost:8080/"
        },
        "id": "901JX2KMVBoS",
        "outputId": "9fb494ba-3684-40e8-8096-f8b8de7fb11c"
      },
      "execution_count": 21,
      "outputs": [
        {
          "output_type": "stream",
          "name": "stdout",
          "text": [
            "Downloading data from https://storage.googleapis.com/tensorflow/keras-applications/mobilenet_v2/mobilenet_v2_weights_tf_dim_ordering_tf_kernels_0.35_224_no_top.h5\n",
            "\u001b[1m2019640/2019640\u001b[0m \u001b[32m━━━━━━━━━━━━━━━━━━━━\u001b[0m\u001b[37m\u001b[0m \u001b[1m0s\u001b[0m 0us/step\n"
          ]
        }
      ]
    },
    {
      "cell_type": "code",
      "source": [
        "base_model.trainable = False\n",
        "feat_extr = base_model"
      ],
      "metadata": {
        "id": "MfUt5zb4VBvk"
      },
      "execution_count": 23,
      "outputs": []
    },
    {
      "cell_type": "code",
      "source": [
        "augmen = tf.keras.Sequential([RandomFlip('horizontal'),RandomRotation(0.2)])\n",
        "train_ds = train_ds.map(lambda x, y: (augmen(x), y))\n",
        "val_ds = val_ds.map(lambda x, y: (augmen(x), y))"
      ],
      "metadata": {
        "id": "EID2f-NNVB3Z"
      },
      "execution_count": 28,
      "outputs": []
    },
    {
      "cell_type": "code",
      "source": [
        "global_avg_layer = tf.keras.layers.GlobalAveragePooling2D()\n",
        "dense_layer = tf.keras.layers.Dense(3,activation='softmax')\n",
        "MODEL_INPUT_SIZE = (224, 224, 3)"
      ],
      "metadata": {
        "id": "0O-2v4eBVB-l"
      },
      "execution_count": 31,
      "outputs": []
    },
    {
      "cell_type": "code",
      "source": [
        "inputs = tf.keras.Input(shape=MODEL_INPUT_SIZE)\n",
        "x = global_avg_layer(feat_extr.layers[-1].output)\n",
        "x = tf.keras.layers.Dropout(0.2)(x)\n",
        "outputs = dense_layer(x)\n",
        "model = Model(inputs=feat_extr.inputs,outputs=outputs)"
      ],
      "metadata": {
        "id": "nxzPYDT3WW3t"
      },
      "execution_count": 32,
      "outputs": []
    },
    {
      "cell_type": "code",
      "source": [
        "lr = 0.0005\n",
        "model.compile(\n",
        "optimizer=tf.keras.optimizers.Adam(learning_rate=lr),\n",
        "loss=tf.losses.SparseCategoricalCrossentropy(from_logits=False),\n",
        "metrics=['accuracy'])"
      ],
      "metadata": {
        "id": "18d0p2FuWW7u"
      },
      "execution_count": 33,
      "outputs": []
    },
    {
      "cell_type": "code",
      "source": [
        "history=model.fit(train_ds,validation_data=val_ds,epochs=30)"
      ],
      "metadata": {
        "colab": {
          "base_uri": "https://localhost:8080/"
        },
        "id": "VG0ZqAcqWW_a",
        "outputId": "e71b0029-1973-472e-9f8d-029c726b0112"
      },
      "execution_count": 34,
      "outputs": [
        {
          "output_type": "stream",
          "name": "stdout",
          "text": [
            "Epoch 1/30\n",
            "\u001b[1m8/8\u001b[0m \u001b[32m━━━━━━━━━━━━━━━━━━━━\u001b[0m\u001b[37m\u001b[0m \u001b[1m31s\u001b[0m 3s/step - accuracy: 0.3768 - loss: 1.2096 - val_accuracy: 0.4333 - val_loss: 0.8701\n",
            "Epoch 2/30\n",
            "\u001b[1m8/8\u001b[0m \u001b[32m━━━━━━━━━━━━━━━━━━━━\u001b[0m\u001b[37m\u001b[0m \u001b[1m18s\u001b[0m 2s/step - accuracy: 0.4701 - loss: 0.9080 - val_accuracy: 0.6167 - val_loss: 0.6876\n",
            "Epoch 3/30\n",
            "\u001b[1m8/8\u001b[0m \u001b[32m━━━━━━━━━━━━━━━━━━━━\u001b[0m\u001b[37m\u001b[0m \u001b[1m21s\u001b[0m 2s/step - accuracy: 0.5787 - loss: 0.7021 - val_accuracy: 0.7833 - val_loss: 0.5288\n",
            "Epoch 4/30\n",
            "\u001b[1m8/8\u001b[0m \u001b[32m━━━━━━━━━━━━━━━━━━━━\u001b[0m\u001b[37m\u001b[0m \u001b[1m19s\u001b[0m 2s/step - accuracy: 0.7598 - loss: 0.5417 - val_accuracy: 0.7333 - val_loss: 0.5059\n",
            "Epoch 5/30\n",
            "\u001b[1m8/8\u001b[0m \u001b[32m━━━━━━━━━━━━━━━━━━━━\u001b[0m\u001b[37m\u001b[0m \u001b[1m20s\u001b[0m 2s/step - accuracy: 0.8064 - loss: 0.4749 - val_accuracy: 0.7500 - val_loss: 0.4656\n",
            "Epoch 6/30\n",
            "\u001b[1m8/8\u001b[0m \u001b[32m━━━━━━━━━━━━━━━━━━━━\u001b[0m\u001b[37m\u001b[0m \u001b[1m21s\u001b[0m 2s/step - accuracy: 0.8346 - loss: 0.4408 - val_accuracy: 0.8667 - val_loss: 0.3887\n",
            "Epoch 7/30\n",
            "\u001b[1m8/8\u001b[0m \u001b[32m━━━━━━━━━━━━━━━━━━━━\u001b[0m\u001b[37m\u001b[0m \u001b[1m22s\u001b[0m 2s/step - accuracy: 0.7998 - loss: 0.4302 - val_accuracy: 0.9167 - val_loss: 0.3286\n",
            "Epoch 8/30\n",
            "\u001b[1m8/8\u001b[0m \u001b[32m━━━━━━━━━━━━━━━━━━━━\u001b[0m\u001b[37m\u001b[0m \u001b[1m18s\u001b[0m 2s/step - accuracy: 0.8387 - loss: 0.3907 - val_accuracy: 0.9000 - val_loss: 0.3396\n",
            "Epoch 9/30\n",
            "\u001b[1m8/8\u001b[0m \u001b[32m━━━━━━━━━━━━━━━━━━━━\u001b[0m\u001b[37m\u001b[0m \u001b[1m18s\u001b[0m 2s/step - accuracy: 0.8661 - loss: 0.3343 - val_accuracy: 0.9167 - val_loss: 0.3172\n",
            "Epoch 10/30\n",
            "\u001b[1m8/8\u001b[0m \u001b[32m━━━━━━━━━━━━━━━━━━━━\u001b[0m\u001b[37m\u001b[0m \u001b[1m17s\u001b[0m 2s/step - accuracy: 0.8775 - loss: 0.3307 - val_accuracy: 0.9000 - val_loss: 0.3035\n",
            "Epoch 11/30\n",
            "\u001b[1m8/8\u001b[0m \u001b[32m━━━━━━━━━━━━━━━━━━━━\u001b[0m\u001b[37m\u001b[0m \u001b[1m17s\u001b[0m 2s/step - accuracy: 0.8734 - loss: 0.2979 - val_accuracy: 0.9500 - val_loss: 0.2557\n",
            "Epoch 12/30\n",
            "\u001b[1m8/8\u001b[0m \u001b[32m━━━━━━━━━━━━━━━━━━━━\u001b[0m\u001b[37m\u001b[0m \u001b[1m21s\u001b[0m 2s/step - accuracy: 0.9028 - loss: 0.2876 - val_accuracy: 0.9333 - val_loss: 0.2623\n",
            "Epoch 13/30\n",
            "\u001b[1m8/8\u001b[0m \u001b[32m━━━━━━━━━━━━━━━━━━━━\u001b[0m\u001b[37m\u001b[0m \u001b[1m20s\u001b[0m 2s/step - accuracy: 0.9369 - loss: 0.2493 - val_accuracy: 0.9500 - val_loss: 0.2438\n",
            "Epoch 14/30\n",
            "\u001b[1m8/8\u001b[0m \u001b[32m━━━━━━━━━━━━━━━━━━━━\u001b[0m\u001b[37m\u001b[0m \u001b[1m18s\u001b[0m 2s/step - accuracy: 0.9148 - loss: 0.2654 - val_accuracy: 0.9333 - val_loss: 0.2401\n",
            "Epoch 15/30\n",
            "\u001b[1m8/8\u001b[0m \u001b[32m━━━━━━━━━━━━━━━━━━━━\u001b[0m\u001b[37m\u001b[0m \u001b[1m18s\u001b[0m 2s/step - accuracy: 0.8903 - loss: 0.2515 - val_accuracy: 0.9167 - val_loss: 0.2566\n",
            "Epoch 16/30\n",
            "\u001b[1m8/8\u001b[0m \u001b[32m━━━━━━━━━━━━━━━━━━━━\u001b[0m\u001b[37m\u001b[0m \u001b[1m17s\u001b[0m 2s/step - accuracy: 0.9364 - loss: 0.2145 - val_accuracy: 0.9333 - val_loss: 0.2243\n",
            "Epoch 17/30\n",
            "\u001b[1m8/8\u001b[0m \u001b[32m━━━━━━━━━━━━━━━━━━━━\u001b[0m\u001b[37m\u001b[0m \u001b[1m22s\u001b[0m 2s/step - accuracy: 0.9559 - loss: 0.2072 - val_accuracy: 0.9167 - val_loss: 0.2188\n",
            "Epoch 18/30\n",
            "\u001b[1m8/8\u001b[0m \u001b[32m━━━━━━━━━━━━━━━━━━━━\u001b[0m\u001b[37m\u001b[0m \u001b[1m18s\u001b[0m 2s/step - accuracy: 0.9296 - loss: 0.2251 - val_accuracy: 0.9333 - val_loss: 0.2087\n",
            "Epoch 19/30\n",
            "\u001b[1m8/8\u001b[0m \u001b[32m━━━━━━━━━━━━━━━━━━━━\u001b[0m\u001b[37m\u001b[0m \u001b[1m21s\u001b[0m 2s/step - accuracy: 0.9372 - loss: 0.1971 - val_accuracy: 0.9333 - val_loss: 0.2332\n",
            "Epoch 20/30\n",
            "\u001b[1m8/8\u001b[0m \u001b[32m━━━━━━━━━━━━━━━━━━━━\u001b[0m\u001b[37m\u001b[0m \u001b[1m18s\u001b[0m 2s/step - accuracy: 0.9530 - loss: 0.1812 - val_accuracy: 0.9333 - val_loss: 0.2122\n",
            "Epoch 21/30\n",
            "\u001b[1m8/8\u001b[0m \u001b[32m━━━━━━━━━━━━━━━━━━━━\u001b[0m\u001b[37m\u001b[0m \u001b[1m26s\u001b[0m 3s/step - accuracy: 0.9520 - loss: 0.2100 - val_accuracy: 0.9833 - val_loss: 0.1774\n",
            "Epoch 22/30\n",
            "\u001b[1m8/8\u001b[0m \u001b[32m━━━━━━━━━━━━━━━━━━━━\u001b[0m\u001b[37m\u001b[0m \u001b[1m18s\u001b[0m 2s/step - accuracy: 0.9651 - loss: 0.1821 - val_accuracy: 0.9333 - val_loss: 0.1882\n",
            "Epoch 23/30\n",
            "\u001b[1m8/8\u001b[0m \u001b[32m━━━━━━━━━━━━━━━━━━━━\u001b[0m\u001b[37m\u001b[0m \u001b[1m17s\u001b[0m 2s/step - accuracy: 0.9322 - loss: 0.2056 - val_accuracy: 0.9833 - val_loss: 0.1526\n",
            "Epoch 24/30\n",
            "\u001b[1m8/8\u001b[0m \u001b[32m━━━━━━━━━━━━━━━━━━━━\u001b[0m\u001b[37m\u001b[0m \u001b[1m18s\u001b[0m 2s/step - accuracy: 0.9307 - loss: 0.2116 - val_accuracy: 0.9500 - val_loss: 0.1574\n",
            "Epoch 25/30\n",
            "\u001b[1m8/8\u001b[0m \u001b[32m━━━━━━━━━━━━━━━━━━━━\u001b[0m\u001b[37m\u001b[0m \u001b[1m20s\u001b[0m 2s/step - accuracy: 0.9569 - loss: 0.1763 - val_accuracy: 0.9167 - val_loss: 0.1914\n",
            "Epoch 26/30\n",
            "\u001b[1m8/8\u001b[0m \u001b[32m━━━━━━━━━━━━━━━━━━━━\u001b[0m\u001b[37m\u001b[0m \u001b[1m17s\u001b[0m 2s/step - accuracy: 0.9198 - loss: 0.2001 - val_accuracy: 0.9833 - val_loss: 0.1491\n",
            "Epoch 27/30\n",
            "\u001b[1m8/8\u001b[0m \u001b[32m━━━━━━━━━━━━━━━━━━━━\u001b[0m\u001b[37m\u001b[0m \u001b[1m21s\u001b[0m 2s/step - accuracy: 0.9542 - loss: 0.1491 - val_accuracy: 0.9500 - val_loss: 0.1637\n",
            "Epoch 28/30\n",
            "\u001b[1m8/8\u001b[0m \u001b[32m━━━━━━━━━━━━━━━━━━━━\u001b[0m\u001b[37m\u001b[0m \u001b[1m17s\u001b[0m 2s/step - accuracy: 0.9700 - loss: 0.1374 - val_accuracy: 0.9500 - val_loss: 0.1502\n",
            "Epoch 29/30\n",
            "\u001b[1m8/8\u001b[0m \u001b[32m━━━━━━━━━━━━━━━━━━━━\u001b[0m\u001b[37m\u001b[0m \u001b[1m20s\u001b[0m 2s/step - accuracy: 0.9438 - loss: 0.1760 - val_accuracy: 0.9167 - val_loss: 0.1990\n",
            "Epoch 30/30\n",
            "\u001b[1m8/8\u001b[0m \u001b[32m━━━━━━━━━━━━━━━━━━━━\u001b[0m\u001b[37m\u001b[0m \u001b[1m19s\u001b[0m 2s/step - accuracy: 0.9446 - loss: 0.1574 - val_accuracy: 0.9333 - val_loss: 0.1626\n"
          ]
        }
      ]
    },
    {
      "cell_type": "code",
      "source": [
        "import matplotlib.pyplot as plt\n",
        "import numpy as np\n",
        "from sklearn.metrics import confusion_matrix, ConfusionMatrixDisplay\n",
        "\n",
        "# Extract loss and accuracy from the history object\n",
        "loss = history.history['loss']\n",
        "val_loss = history.history['val_loss']\n",
        "accuracy = history.history['accuracy']\n",
        "val_accuracy = history.history['val_accuracy']\n",
        "epochs = range(1, len(loss) + 1)\n",
        "\n",
        "# Plot Training and Validation Loss\n",
        "plt.figure(figsize=(12, 5))\n",
        "plt.subplot(1, 2, 1)\n",
        "plt.plot(epochs, loss, 'r.', label='Training loss')\n",
        "plt.plot(epochs, val_loss, 'y', label='Validation loss')\n",
        "plt.title('Training and Validation Loss')\n",
        "plt.xlabel('Epochs')\n",
        "plt.ylabel('Loss')\n",
        "plt.grid()\n",
        "plt.legend()\n",
        "\n",
        "# Plot Training and Validation Accuracy\n",
        "plt.subplot(1, 2, 2)\n",
        "plt.plot(epochs, accuracy, 'b.', label='Training accuracy')\n",
        "plt.plot(epochs, val_accuracy, 'g', label='Validation accuracy')\n",
        "plt.title('Training and Validation Accuracy')\n",
        "plt.xlabel('Epochs')\n",
        "plt.ylabel('Accuracy')\n",
        "plt.grid()\n",
        "plt.legend()\n",
        "\n",
        "# Save the plots\n",
        "plt.savefig('.\\\\figures\\\\history_training.png', dpi=300, bbox_inches='tight')\n",
        "plt.show()\n",
        "\n"
      ],
      "metadata": {
        "colab": {
          "base_uri": "https://localhost:8080/",
          "height": 320
        },
        "id": "SuotGFIgWXCw",
        "outputId": "57283924-3069-45dc-8d3d-831d1cea94cf"
      },
      "execution_count": 36,
      "outputs": [
        {
          "output_type": "display_data",
          "data": {
            "text/plain": [
              "<Figure size 1200x500 with 2 Axes>"
            ],
            "image/png": "[encoded data removed]"
          },
          "metadata": {}
        }
      ]
    },
    {
      "cell_type": "code",
      "source": [
        "model.save(\"/content/drive/MyDrive/my_project/CSSV_01.keras\")"
      ],
      "metadata": {
        "id": "bXIByPFEWXFv"
      },
      "execution_count": 39,
      "outputs": []
    },
    {
      "cell_type": "code",
      "source": [
        "import tensorflow as tf\n",
        "\n",
        "\n",
        "model = tf.keras.models.load_model(\"/content/drive/MyDrive/my_project/CSSV_01.keras\")\n",
        "\n",
        "\n",
        "converter = tf.lite.TFLiteConverter.from_keras_model(model)\n",
        "\n",
        "tflite_model = converter.convert()\n",
        "\n",
        "with open(\"/content/drive/MyDrive/my_project/CSSV_01.tflite\", \"wb\") as f:\n",
        "    f.write(tflite_model)\n"
      ],
      "metadata": {
        "colab": {
          "base_uri": "https://localhost:8080/"
        },
        "collapsed": true,
        "id": "nh1mcqxKhQWn",
        "outputId": "7e509c1e-8044-48a1-b821-8efe46aa0ee9"
      },
      "execution_count": 43,
      "outputs": [
        {
          "output_type": "stream",
          "name": "stdout",
          "text": [
            "Saved artifact at '/tmp/tmpv8slulut'. The following endpoints are available:\n",
            "\n",
            "* Endpoint 'serve'\n",
            "  args_0 (POSITIONAL_ONLY): TensorSpec(shape=(None, 224, 224, 3), dtype=tf.float32, name='input_layer_2')\n",
            "Output Type:\n",
            "  TensorSpec(shape=(None, 3), dtype=tf.float32, name=None)\n",
            "Captures:\n",
            "  132349744946992: TensorSpec(shape=(), dtype=tf.resource, name=None)\n",
            "  132349865608288: TensorSpec(shape=(), dtype=tf.resource, name=None)\n",
            "  132349865610400: TensorSpec(shape=(), dtype=tf.resource, name=None)\n",
            "  132349744951744: TensorSpec(shape=(), dtype=tf.resource, name=None)\n",
            "  132349744954032: TensorSpec(shape=(), dtype=tf.resource, name=None)\n",
            "  132349865614976: TensorSpec(shape=(), dtype=tf.resource, name=None)\n",
            "  132349865611984: TensorSpec(shape=(), dtype=tf.resource, name=None)\n",
            "  132349865619200: TensorSpec(shape=(), dtype=tf.resource, name=None)\n",
            "  132349865614624: TensorSpec(shape=(), dtype=tf.resource, name=None)\n",
            "  132349865613392: TensorSpec(shape=(), dtype=tf.resource, name=None)\n",
            "  132349865620960: TensorSpec(shape=(), dtype=tf.resource, name=None)\n",
            "  132349865215072: TensorSpec(shape=(), dtype=tf.resource, name=None)\n",
            "  132349865216480: TensorSpec(shape=(), dtype=tf.resource, name=None)\n",
            "  132349865623248: TensorSpec(shape=(), dtype=tf.resource, name=None)\n",
            "  132349865621840: TensorSpec(shape=(), dtype=tf.resource, name=None)\n",
            "  132349865217008: TensorSpec(shape=(), dtype=tf.resource, name=None)\n",
            "  132349865215600: TensorSpec(shape=(), dtype=tf.resource, name=None)\n",
            "  132349865221408: TensorSpec(shape=(), dtype=tf.resource, name=None)\n",
            "  132349865217536: TensorSpec(shape=(), dtype=tf.resource, name=None)\n",
            "  132349865218416: TensorSpec(shape=(), dtype=tf.resource, name=None)\n",
            "  132349865224752: TensorSpec(shape=(), dtype=tf.resource, name=None)\n",
            "  132349865223696: TensorSpec(shape=(), dtype=tf.resource, name=None)\n",
            "  132349865229152: TensorSpec(shape=(), dtype=tf.resource, name=None)\n",
            "  132349865225280: TensorSpec(shape=(), dtype=tf.resource, name=None)\n",
            "  132349865226160: TensorSpec(shape=(), dtype=tf.resource, name=None)\n",
            "  132349865641056: TensorSpec(shape=(), dtype=tf.resource, name=None)\n",
            "  132349865640352: TensorSpec(shape=(), dtype=tf.resource, name=None)\n",
            "  132349865644224: TensorSpec(shape=(), dtype=tf.resource, name=None)\n",
            "  132349865641584: TensorSpec(shape=(), dtype=tf.resource, name=None)\n",
            "  132349865642464: TensorSpec(shape=(), dtype=tf.resource, name=None)\n",
            "  132349865646512: TensorSpec(shape=(), dtype=tf.resource, name=None)\n",
            "  132349865645104: TensorSpec(shape=(), dtype=tf.resource, name=None)\n",
            "  132349865650912: TensorSpec(shape=(), dtype=tf.resource, name=None)\n",
            "  132349865647040: TensorSpec(shape=(), dtype=tf.resource, name=None)\n",
            "  132349865647920: TensorSpec(shape=(), dtype=tf.resource, name=None)\n",
            "  132349865653024: TensorSpec(shape=(), dtype=tf.resource, name=None)\n",
            "  132349865655488: TensorSpec(shape=(), dtype=tf.resource, name=None)\n",
            "  132349865149712: TensorSpec(shape=(), dtype=tf.resource, name=None)\n",
            "  132349865653904: TensorSpec(shape=(), dtype=tf.resource, name=None)\n",
            "  132349865653552: TensorSpec(shape=(), dtype=tf.resource, name=None)\n",
            "  132349865151824: TensorSpec(shape=(), dtype=tf.resource, name=None)\n",
            "  132349865151120: TensorSpec(shape=(), dtype=tf.resource, name=None)\n",
            "  132349865154992: TensorSpec(shape=(), dtype=tf.resource, name=None)\n",
            "  132349865152352: TensorSpec(shape=(), dtype=tf.resource, name=None)\n",
            "  132349865153232: TensorSpec(shape=(), dtype=tf.resource, name=None)\n",
            "  132349865158512: TensorSpec(shape=(), dtype=tf.resource, name=None)\n",
            "  132349865157808: TensorSpec(shape=(), dtype=tf.resource, name=None)\n",
            "  132349865162912: TensorSpec(shape=(), dtype=tf.resource, name=None)\n",
            "  132349865159040: TensorSpec(shape=(), dtype=tf.resource, name=None)\n",
            "  132349865159920: TensorSpec(shape=(), dtype=tf.resource, name=None)\n",
            "  132349865461360: TensorSpec(shape=(), dtype=tf.resource, name=None)\n",
            "  132349865460304: TensorSpec(shape=(), dtype=tf.resource, name=None)\n",
            "  132349865464528: TensorSpec(shape=(), dtype=tf.resource, name=None)\n",
            "  132349865461888: TensorSpec(shape=(), dtype=tf.resource, name=None)\n",
            "  132349865462768: TensorSpec(shape=(), dtype=tf.resource, name=None)\n",
            "  132349865467872: TensorSpec(shape=(), dtype=tf.resource, name=None)\n",
            "  132349865467168: TensorSpec(shape=(), dtype=tf.resource, name=None)\n",
            "  132349865472272: TensorSpec(shape=(), dtype=tf.resource, name=None)\n",
            "  132349865468400: TensorSpec(shape=(), dtype=tf.resource, name=None)\n",
            "  132349865469280: TensorSpec(shape=(), dtype=tf.resource, name=None)\n",
            "  132349865473328: TensorSpec(shape=(), dtype=tf.resource, name=None)\n",
            "  132349865473504: TensorSpec(shape=(), dtype=tf.resource, name=None)\n",
            "  132349863610672: TensorSpec(shape=(), dtype=tf.resource, name=None)\n",
            "  132349865475616: TensorSpec(shape=(), dtype=tf.resource, name=None)\n",
            "  132349865474208: TensorSpec(shape=(), dtype=tf.resource, name=None)\n",
            "  132349863612256: TensorSpec(shape=(), dtype=tf.resource, name=None)\n",
            "  132349863611376: TensorSpec(shape=(), dtype=tf.resource, name=None)\n",
            "  132349863616656: TensorSpec(shape=(), dtype=tf.resource, name=None)\n",
            "  132349863612784: TensorSpec(shape=(), dtype=tf.resource, name=None)\n",
            "  132349863613664: TensorSpec(shape=(), dtype=tf.resource, name=None)\n",
            "  132349863618768: TensorSpec(shape=(), dtype=tf.resource, name=None)\n",
            "  132349863618064: TensorSpec(shape=(), dtype=tf.resource, name=None)\n",
            "  132349863623168: TensorSpec(shape=(), dtype=tf.resource, name=None)\n",
            "  132349863619296: TensorSpec(shape=(), dtype=tf.resource, name=None)\n",
            "  132349863620176: TensorSpec(shape=(), dtype=tf.resource, name=None)\n",
            "  132349863461808: TensorSpec(shape=(), dtype=tf.resource, name=None)\n",
            "  132349863461104: TensorSpec(shape=(), dtype=tf.resource, name=None)\n",
            "  132349863464976: TensorSpec(shape=(), dtype=tf.resource, name=None)\n",
            "  132349863462336: TensorSpec(shape=(), dtype=tf.resource, name=None)\n",
            "  132349863463216: TensorSpec(shape=(), dtype=tf.resource, name=None)\n",
            "  132349863472896: TensorSpec(shape=(), dtype=tf.resource, name=None)\n",
            "  132349863429040: TensorSpec(shape=(), dtype=tf.resource, name=None)\n",
            "  132349863430272: TensorSpec(shape=(), dtype=tf.resource, name=None)\n",
            "  132349863476064: TensorSpec(shape=(), dtype=tf.resource, name=None)\n",
            "  132349863475712: TensorSpec(shape=(), dtype=tf.resource, name=None)\n",
            "  132349863435904: TensorSpec(shape=(), dtype=tf.resource, name=None)\n",
            "  132349863438192: TensorSpec(shape=(), dtype=tf.resource, name=None)\n",
            "  132349863438720: TensorSpec(shape=(), dtype=tf.resource, name=None)\n",
            "  132349863439248: TensorSpec(shape=(), dtype=tf.resource, name=None)\n",
            "  132349863439952: TensorSpec(shape=(), dtype=tf.resource, name=None)\n",
            "  132349745173552: TensorSpec(shape=(), dtype=tf.resource, name=None)\n",
            "  132349863463392: TensorSpec(shape=(), dtype=tf.resource, name=None)\n",
            "  132349863470080: TensorSpec(shape=(), dtype=tf.resource, name=None)\n",
            "  132349863468496: TensorSpec(shape=(), dtype=tf.resource, name=None)\n",
            "  132349863468320: TensorSpec(shape=(), dtype=tf.resource, name=None)\n",
            "  132349863316112: TensorSpec(shape=(), dtype=tf.resource, name=None)\n",
            "  132349863315936: TensorSpec(shape=(), dtype=tf.resource, name=None)\n",
            "  132349863321040: TensorSpec(shape=(), dtype=tf.resource, name=None)\n",
            "  132349863318400: TensorSpec(shape=(), dtype=tf.resource, name=None)\n",
            "  132349863319280: TensorSpec(shape=(), dtype=tf.resource, name=None)\n",
            "  132349863324384: TensorSpec(shape=(), dtype=tf.resource, name=None)\n",
            "  132349863323680: TensorSpec(shape=(), dtype=tf.resource, name=None)\n",
            "  132349863328784: TensorSpec(shape=(), dtype=tf.resource, name=None)\n",
            "  132349863324912: TensorSpec(shape=(), dtype=tf.resource, name=None)\n",
            "  132349863325792: TensorSpec(shape=(), dtype=tf.resource, name=None)\n",
            "  132349863331264: TensorSpec(shape=(), dtype=tf.resource, name=None)\n",
            "  132349863330736: TensorSpec(shape=(), dtype=tf.resource, name=None)\n",
            "  132349863333200: TensorSpec(shape=(), dtype=tf.resource, name=None)\n",
            "  132349863330560: TensorSpec(shape=(), dtype=tf.resource, name=None)\n",
            "  132349863331440: TensorSpec(shape=(), dtype=tf.resource, name=None)\n",
            "  132349863336544: TensorSpec(shape=(), dtype=tf.resource, name=None)\n",
            "  132349863335664: TensorSpec(shape=(), dtype=tf.resource, name=None)\n",
            "  132349863340944: TensorSpec(shape=(), dtype=tf.resource, name=None)\n",
            "  132349863337072: TensorSpec(shape=(), dtype=tf.resource, name=None)\n",
            "  132349863337952: TensorSpec(shape=(), dtype=tf.resource, name=None)\n",
            "  132349863343056: TensorSpec(shape=(), dtype=tf.resource, name=None)\n",
            "  132349863345520: TensorSpec(shape=(), dtype=tf.resource, name=None)\n",
            "  132349863347648: TensorSpec(shape=(), dtype=tf.resource, name=None)\n",
            "  132349863343936: TensorSpec(shape=(), dtype=tf.resource, name=None)\n",
            "  132349863343584: TensorSpec(shape=(), dtype=tf.resource, name=None)\n",
            "  132349863349936: TensorSpec(shape=(), dtype=tf.resource, name=None)\n",
            "  132349863349232: TensorSpec(shape=(), dtype=tf.resource, name=None)\n",
            "  132349863353104: TensorSpec(shape=(), dtype=tf.resource, name=None)\n",
            "  132349863350464: TensorSpec(shape=(), dtype=tf.resource, name=None)\n",
            "  132349863351344: TensorSpec(shape=(), dtype=tf.resource, name=None)\n",
            "  132349863356448: TensorSpec(shape=(), dtype=tf.resource, name=None)\n",
            "  132349863355568: TensorSpec(shape=(), dtype=tf.resource, name=None)\n",
            "  132349863360848: TensorSpec(shape=(), dtype=tf.resource, name=None)\n",
            "  132349863356976: TensorSpec(shape=(), dtype=tf.resource, name=None)\n",
            "  132349863357856: TensorSpec(shape=(), dtype=tf.resource, name=None)\n",
            "  132349863855376: TensorSpec(shape=(), dtype=tf.resource, name=None)\n",
            "  132349863854672: TensorSpec(shape=(), dtype=tf.resource, name=None)\n",
            "  132349863857840: TensorSpec(shape=(), dtype=tf.resource, name=None)\n",
            "  132349863855552: TensorSpec(shape=(), dtype=tf.resource, name=None)\n",
            "  132349863856080: TensorSpec(shape=(), dtype=tf.resource, name=None)\n",
            "  132349863861360: TensorSpec(shape=(), dtype=tf.resource, name=None)\n",
            "  132349863860656: TensorSpec(shape=(), dtype=tf.resource, name=None)\n",
            "  132349863865760: TensorSpec(shape=(), dtype=tf.resource, name=None)\n",
            "  132349863861888: TensorSpec(shape=(), dtype=tf.resource, name=None)\n",
            "  132349863862768: TensorSpec(shape=(), dtype=tf.resource, name=None)\n",
            "  132349863867872: TensorSpec(shape=(), dtype=tf.resource, name=None)\n",
            "  132349863871584: TensorSpec(shape=(), dtype=tf.resource, name=None)\n",
            "  132349863872992: TensorSpec(shape=(), dtype=tf.resource, name=None)\n",
            "  132349863870160: TensorSpec(shape=(), dtype=tf.resource, name=None)\n",
            "  132349863868752: TensorSpec(shape=(), dtype=tf.resource, name=None)\n",
            "  132349863874576: TensorSpec(shape=(), dtype=tf.resource, name=None)\n",
            "  132349863873872: TensorSpec(shape=(), dtype=tf.resource, name=None)\n",
            "  132349863878976: TensorSpec(shape=(), dtype=tf.resource, name=None)\n",
            "  132349863875104: TensorSpec(shape=(), dtype=tf.resource, name=None)\n",
            "  132349863875984: TensorSpec(shape=(), dtype=tf.resource, name=None)\n",
            "  132349863881264: TensorSpec(shape=(), dtype=tf.resource, name=None)\n",
            "  132349863880560: TensorSpec(shape=(), dtype=tf.resource, name=None)\n",
            "  132349863885664: TensorSpec(shape=(), dtype=tf.resource, name=None)\n",
            "  132349863881792: TensorSpec(shape=(), dtype=tf.resource, name=None)\n",
            "  132349863882672: TensorSpec(shape=(), dtype=tf.resource, name=None)\n",
            "  132349864084576: TensorSpec(shape=(), dtype=tf.resource, name=None)\n",
            "  132349864083696: TensorSpec(shape=(), dtype=tf.resource, name=None)\n",
            "  132349864087744: TensorSpec(shape=(), dtype=tf.resource, name=None)\n",
            "  132349864085104: TensorSpec(shape=(), dtype=tf.resource, name=None)\n",
            "  132349864085984: TensorSpec(shape=(), dtype=tf.resource, name=None)\n",
            "  132349864091088: TensorSpec(shape=(), dtype=tf.resource, name=None)\n",
            "  132349864090384: TensorSpec(shape=(), dtype=tf.resource, name=None)\n",
            "  132349864095488: TensorSpec(shape=(), dtype=tf.resource, name=None)\n",
            "  132349864091616: TensorSpec(shape=(), dtype=tf.resource, name=None)\n",
            "  132349864092496: TensorSpec(shape=(), dtype=tf.resource, name=None)\n",
            "  132349864096544: TensorSpec(shape=(), dtype=tf.resource, name=None)\n",
            "  132349864099008: TensorSpec(shape=(), dtype=tf.resource, name=None)\n",
            "  132349864101136: TensorSpec(shape=(), dtype=tf.resource, name=None)\n",
            "  132349864097424: TensorSpec(shape=(), dtype=tf.resource, name=None)\n",
            "  132349864097072: TensorSpec(shape=(), dtype=tf.resource, name=None)\n",
            "  132349864103248: TensorSpec(shape=(), dtype=tf.resource, name=None)\n",
            "  132349864102368: TensorSpec(shape=(), dtype=tf.resource, name=None)\n",
            "  132349864106416: TensorSpec(shape=(), dtype=tf.resource, name=None)\n",
            "  132349864103776: TensorSpec(shape=(), dtype=tf.resource, name=None)\n",
            "  132349864104656: TensorSpec(shape=(), dtype=tf.resource, name=None)\n",
            "  132349864109760: TensorSpec(shape=(), dtype=tf.resource, name=None)\n",
            "  132349864109056: TensorSpec(shape=(), dtype=tf.resource, name=None)\n",
            "  132349864114160: TensorSpec(shape=(), dtype=tf.resource, name=None)\n",
            "  132349864110288: TensorSpec(shape=(), dtype=tf.resource, name=None)\n",
            "  132349864111168: TensorSpec(shape=(), dtype=tf.resource, name=None)\n",
            "  132349864724080: TensorSpec(shape=(), dtype=tf.resource, name=None)\n",
            "  132349864723552: TensorSpec(shape=(), dtype=tf.resource, name=None)\n",
            "  132349864726016: TensorSpec(shape=(), dtype=tf.resource, name=None)\n",
            "  132349864723376: TensorSpec(shape=(), dtype=tf.resource, name=None)\n",
            "  132349864724256: TensorSpec(shape=(), dtype=tf.resource, name=None)\n",
            "  132349864729360: TensorSpec(shape=(), dtype=tf.resource, name=None)\n",
            "  132349864728480: TensorSpec(shape=(), dtype=tf.resource, name=None)\n",
            "  132349864733760: TensorSpec(shape=(), dtype=tf.resource, name=None)\n",
            "  132349864729888: TensorSpec(shape=(), dtype=tf.resource, name=None)\n",
            "  132349864730768: TensorSpec(shape=(), dtype=tf.resource, name=None)\n",
            "  132349864735872: TensorSpec(shape=(), dtype=tf.resource, name=None)\n",
            "  132349864738336: TensorSpec(shape=(), dtype=tf.resource, name=None)\n",
            "  132349864543856: TensorSpec(shape=(), dtype=tf.resource, name=None)\n",
            "  132349864736752: TensorSpec(shape=(), dtype=tf.resource, name=None)\n",
            "  132349864736400: TensorSpec(shape=(), dtype=tf.resource, name=None)\n",
            "  132349864546144: TensorSpec(shape=(), dtype=tf.resource, name=None)\n",
            "  132349864545440: TensorSpec(shape=(), dtype=tf.resource, name=None)\n",
            "  132349864549312: TensorSpec(shape=(), dtype=tf.resource, name=None)\n",
            "  132349864546672: TensorSpec(shape=(), dtype=tf.resource, name=None)\n",
            "  132349864547552: TensorSpec(shape=(), dtype=tf.resource, name=None)\n",
            "  132349864553888: TensorSpec(shape=(), dtype=tf.resource, name=None)\n",
            "  132349864552832: TensorSpec(shape=(), dtype=tf.resource, name=None)\n",
            "  132349864558288: TensorSpec(shape=(), dtype=tf.resource, name=None)\n",
            "  132349864554416: TensorSpec(shape=(), dtype=tf.resource, name=None)\n",
            "  132349864555296: TensorSpec(shape=(), dtype=tf.resource, name=None)\n",
            "  132349864593360: TensorSpec(shape=(), dtype=tf.resource, name=None)\n",
            "  132349864592656: TensorSpec(shape=(), dtype=tf.resource, name=None)\n",
            "  132349864596528: TensorSpec(shape=(), dtype=tf.resource, name=None)\n",
            "  132349864593888: TensorSpec(shape=(), dtype=tf.resource, name=None)\n",
            "  132349864594768: TensorSpec(shape=(), dtype=tf.resource, name=None)\n",
            "  132349864598816: TensorSpec(shape=(), dtype=tf.resource, name=None)\n",
            "  132349864597408: TensorSpec(shape=(), dtype=tf.resource, name=None)\n",
            "  132349864603216: TensorSpec(shape=(), dtype=tf.resource, name=None)\n",
            "  132349864599344: TensorSpec(shape=(), dtype=tf.resource, name=None)\n",
            "  132349864600224: TensorSpec(shape=(), dtype=tf.resource, name=None)\n",
            "  132349864605328: TensorSpec(shape=(), dtype=tf.resource, name=None)\n",
            "  132349862594688: TensorSpec(shape=(), dtype=tf.resource, name=None)\n",
            "  132349862595216: TensorSpec(shape=(), dtype=tf.resource, name=None)\n",
            "  132349864607440: TensorSpec(shape=(), dtype=tf.resource, name=None)\n",
            "  132349864606208: TensorSpec(shape=(), dtype=tf.resource, name=None)\n",
            "  132349862596800: TensorSpec(shape=(), dtype=tf.resource, name=None)\n",
            "  132349862596096: TensorSpec(shape=(), dtype=tf.resource, name=None)\n",
            "  132349862601200: TensorSpec(shape=(), dtype=tf.resource, name=None)\n",
            "  132349862597328: TensorSpec(shape=(), dtype=tf.resource, name=None)\n",
            "  132349862598208: TensorSpec(shape=(), dtype=tf.resource, name=None)\n",
            "  132349862603488: TensorSpec(shape=(), dtype=tf.resource, name=None)\n",
            "  132349862602784: TensorSpec(shape=(), dtype=tf.resource, name=None)\n",
            "  132349862607888: TensorSpec(shape=(), dtype=tf.resource, name=None)\n",
            "  132349862604016: TensorSpec(shape=(), dtype=tf.resource, name=None)\n",
            "  132349862604896: TensorSpec(shape=(), dtype=tf.resource, name=None)\n",
            "  132349862266128: TensorSpec(shape=(), dtype=tf.resource, name=None)\n",
            "  132349862265248: TensorSpec(shape=(), dtype=tf.resource, name=None)\n",
            "  132349862269296: TensorSpec(shape=(), dtype=tf.resource, name=None)\n",
            "  132349862266656: TensorSpec(shape=(), dtype=tf.resource, name=None)\n",
            "  132349862267536: TensorSpec(shape=(), dtype=tf.resource, name=None)\n",
            "  132349862272640: TensorSpec(shape=(), dtype=tf.resource, name=None)\n",
            "  132349862271936: TensorSpec(shape=(), dtype=tf.resource, name=None)\n",
            "  132349862277040: TensorSpec(shape=(), dtype=tf.resource, name=None)\n",
            "  132349862273168: TensorSpec(shape=(), dtype=tf.resource, name=None)\n",
            "  132349862274048: TensorSpec(shape=(), dtype=tf.resource, name=None)\n",
            "  132349862279328: TensorSpec(shape=(), dtype=tf.resource, name=None)\n",
            "  132349862546064: TensorSpec(shape=(), dtype=tf.resource, name=None)\n",
            "  132349862546592: TensorSpec(shape=(), dtype=tf.resource, name=None)\n",
            "  132349862280736: TensorSpec(shape=(), dtype=tf.resource, name=None)\n",
            "  132349862543600: TensorSpec(shape=(), dtype=tf.resource, name=None)\n",
            "  132349862548176: TensorSpec(shape=(), dtype=tf.resource, name=None)\n",
            "  132349862547296: TensorSpec(shape=(), dtype=tf.resource, name=None)\n",
            "  132349862552576: TensorSpec(shape=(), dtype=tf.resource, name=None)\n",
            "  132349862548704: TensorSpec(shape=(), dtype=tf.resource, name=None)\n",
            "  132349862549584: TensorSpec(shape=(), dtype=tf.resource, name=None)\n",
            "  132349862554688: TensorSpec(shape=(), dtype=tf.resource, name=None)\n",
            "  132349862553984: TensorSpec(shape=(), dtype=tf.resource, name=None)\n",
            "  132349862559088: TensorSpec(shape=(), dtype=tf.resource, name=None)\n",
            "  132349862555216: TensorSpec(shape=(), dtype=tf.resource, name=None)\n",
            "  132349862556096: TensorSpec(shape=(), dtype=tf.resource, name=None)\n",
            "  132349862807328: TensorSpec(shape=(), dtype=tf.resource, name=None)\n",
            "  132349862806800: TensorSpec(shape=(), dtype=tf.resource, name=None)\n",
            "  132349862809264: TensorSpec(shape=(), dtype=tf.resource, name=None)\n",
            "  132349862806624: TensorSpec(shape=(), dtype=tf.resource, name=None)\n",
            "  132349862807504: TensorSpec(shape=(), dtype=tf.resource, name=None)\n",
            "  132349862813488: TensorSpec(shape=(), dtype=tf.resource, name=None)\n",
            "  132349862818768: TensorSpec(shape=(), dtype=tf.resource, name=None)\n"
          ]
        }
      ]
    }
  ],
  "metadata": {
    "colab": {
      "provenance": []
    },
    "kernelspec": {
      "display_name": "Python 3",
      "name": "python3"
    },
    "language_info": {
      "name": "python"
    }
  },
  "nbformat": 4,
  "nbformat_minor": 0
}